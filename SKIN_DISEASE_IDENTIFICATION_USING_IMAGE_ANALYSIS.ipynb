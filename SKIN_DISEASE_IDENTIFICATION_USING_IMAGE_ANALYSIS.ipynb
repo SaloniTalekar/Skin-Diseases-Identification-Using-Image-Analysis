{
 "cells": [
  {
   "cell_type": "code",
   "execution_count": 18,
   "metadata": {},
   "outputs": [],
   "source": [
    "from tensorflow.keras.preprocessing.image import ImageDataGenerator"
   ]
  },
  {
   "cell_type": "code",
   "execution_count": 19,
   "metadata": {},
   "outputs": [],
   "source": [
    "train_datagen=ImageDataGenerator(rescale=1./255,\n",
    "                                 zoom_range=0.25,\n",
    "                                 horizontal_flip=True,\n",
    "                                 vertical_flip=False,\n",
    "                                 width_shift_range=0.2)"
   ]
  },
  {
   "cell_type": "code",
   "execution_count": 20,
   "metadata": {},
   "outputs": [],
   "source": [
    "test_datagen=ImageDataGenerator(rescale=1./255)"
   ]
  },
  {
   "cell_type": "code",
   "execution_count": 21,
   "metadata": {},
   "outputs": [],
   "source": [
    "img_width=128\n",
    "img_height=128"
   ]
  },
  {
   "cell_type": "code",
   "execution_count": 24,
   "metadata": {},
   "outputs": [
    {
     "name": "stdout",
     "output_type": "stream",
     "text": [
      "Found 1014 images belonging to 3 classes.\n"
     ]
    }
   ],
   "source": [
    "x_train=train_datagen.flow_from_directory(r'C:\\Users\\dell\\MY PROJECT\\Dataset\\trainset',\n",
    "                                 target_size=(img_width,img_height),\n",
    "                                 class_mode='categorical',\n",
    "                                  batch_size=100)"
   ]
  },
  {
   "cell_type": "code",
   "execution_count": 25,
   "metadata": {},
   "outputs": [
    {
     "name": "stdout",
     "output_type": "stream",
     "text": [
      "Found 100 images belonging to 3 classes.\n"
     ]
    }
   ],
   "source": [
    "x_test=test_datagen.flow_from_directory(r'C:\\Users\\dell\\MY PROJECT\\Dataset\\testset',\n",
    "                                 target_size=(img_width,img_height),\n",
    "                                 class_mode='categorical',\n",
    "                                  batch_size=100)"
   ]
  },
  {
   "cell_type": "code",
   "execution_count": 26,
   "metadata": {},
   "outputs": [],
   "source": [
    "#to define linear initializations\n",
    "from tensorflow.keras.models import Sequential\n",
    "#convolution layer\n",
    "from tensorflow.keras.layers import Convolution2D\n",
    "#maxpooling layer\n",
    "from tensorflow.keras.layers import MaxPooling2D\n",
    "#flatten layer\n",
    "from tensorflow.keras.layers import Flatten\n",
    "#importing dense layers to create NN\n",
    "from tensorflow.keras.layers import Dense"
   ]
  },
  {
   "cell_type": "code",
   "execution_count": 27,
   "metadata": {},
   "outputs": [],
   "source": [
    "cg = Sequential()"
   ]
  },
  {
   "cell_type": "code",
   "execution_count": 28,
   "metadata": {},
   "outputs": [],
   "source": [
    "cg.add(Convolution2D(32,(3,3),input_shape=(img_width,img_height,3),activation='relu'))"
   ]
  },
  {
   "cell_type": "code",
   "execution_count": 29,
   "metadata": {},
   "outputs": [],
   "source": [
    "cg.add(MaxPooling2D(pool_size=(2,2)))"
   ]
  },
  {
   "cell_type": "code",
   "execution_count": 30,
   "metadata": {},
   "outputs": [],
   "source": [
    "cg.add(Flatten())"
   ]
  },
  {
   "cell_type": "code",
   "execution_count": 31,
   "metadata": {},
   "outputs": [
    {
     "data": {
      "text/plain": [
       "(None, 127008)"
      ]
     },
     "execution_count": 31,
     "metadata": {},
     "output_type": "execute_result"
    }
   ],
   "source": [
    "cg.output_shape"
   ]
  },
  {
   "cell_type": "code",
   "execution_count": 32,
   "metadata": {},
   "outputs": [
    {
     "name": "stdout",
     "output_type": "stream",
     "text": [
      "Model: \"sequential_1\"\n",
      "_________________________________________________________________\n",
      "Layer (type)                 Output Shape              Param #   \n",
      "=================================================================\n",
      "conv2d_1 (Conv2D)            (None, 126, 126, 32)      896       \n",
      "_________________________________________________________________\n",
      "max_pooling2d_1 (MaxPooling2 (None, 63, 63, 32)        0         \n",
      "_________________________________________________________________\n",
      "flatten_1 (Flatten)          (None, 127008)            0         \n",
      "=================================================================\n",
      "Total params: 896\n",
      "Trainable params: 896\n",
      "Non-trainable params: 0\n",
      "_________________________________________________________________\n"
     ]
    }
   ],
   "source": [
    "cg.summary()"
   ]
  },
  {
   "cell_type": "code",
   "execution_count": 33,
   "metadata": {},
   "outputs": [],
   "source": [
    "#1st hidden layer\n",
    "cg.add(Dense(units=300,kernel_initializer='uniform',activation='relu'))"
   ]
  },
  {
   "cell_type": "code",
   "execution_count": 34,
   "metadata": {},
   "outputs": [],
   "source": [
    "#2nd hidden layer\n",
    "cg.add(Dense(units=150,kernel_initializer='uniform',activation='relu'))"
   ]
  },
  {
   "cell_type": "code",
   "execution_count": 35,
   "metadata": {},
   "outputs": [],
   "source": [
    "#3rd hidden layer\n",
    "cg.add(Dense(units=50,kernel_initializer='uniform',activation='relu'))"
   ]
  },
  {
   "cell_type": "code",
   "execution_count": 36,
   "metadata": {},
   "outputs": [],
   "source": [
    "#output layer\n",
    "cg.add(Dense(units=3,kernel_initializer='uniform',activation='softmax'))"
   ]
  },
  {
   "cell_type": "code",
   "execution_count": 37,
   "metadata": {},
   "outputs": [],
   "source": [
    "cg.compile(loss='categorical_crossentropy',optimizer='adam',metrics=['accuracy'])"
   ]
  },
  {
   "cell_type": "code",
   "execution_count": 46,
   "metadata": {},
   "outputs": [
    {
     "name": "stdout",
     "output_type": "stream",
     "text": [
      "Epoch 1/15\n",
      "10/10 [==============================] - 40s 4s/step - loss: 0.1124 - accuracy: 0.9584 - val_loss: 0.2358 - val_accuracy: 0.9200\n",
      "Epoch 2/15\n",
      "10/10 [==============================] - 40s 4s/step - loss: 0.1001 - accuracy: 0.9584 - val_loss: 0.1578 - val_accuracy: 0.9600\n",
      "Epoch 3/15\n",
      "10/10 [==============================] - 39s 4s/step - loss: 0.1208 - accuracy: 0.9540 - val_loss: 0.0918 - val_accuracy: 0.9600\n",
      "Epoch 4/15\n",
      "10/10 [==============================] - 40s 4s/step - loss: 0.1349 - accuracy: 0.9519 - val_loss: 0.0517 - val_accuracy: 0.9800\n",
      "Epoch 5/15\n",
      "10/10 [==============================] - 39s 4s/step - loss: 0.1407 - accuracy: 0.9431 - val_loss: 0.4784 - val_accuracy: 0.9200\n",
      "Epoch 6/15\n",
      "10/10 [==============================] - 39s 4s/step - loss: 0.1706 - accuracy: 0.9354 - val_loss: 0.1856 - val_accuracy: 0.9200\n",
      "Epoch 7/15\n",
      "10/10 [==============================] - 39s 4s/step - loss: 0.1412 - accuracy: 0.9486 - val_loss: 0.4808 - val_accuracy: 0.9000\n",
      "Epoch 8/15\n",
      "10/10 [==============================] - 39s 4s/step - loss: 0.1223 - accuracy: 0.9508 - val_loss: 0.1593 - val_accuracy: 0.9300\n",
      "Epoch 9/15\n",
      "10/10 [==============================] - 39s 4s/step - loss: 0.1319 - accuracy: 0.9497 - val_loss: 0.1178 - val_accuracy: 0.9500\n",
      "Epoch 10/15\n",
      "10/10 [==============================] - 39s 4s/step - loss: 0.0805 - accuracy: 0.9726 - val_loss: 0.1316 - val_accuracy: 0.9700\n",
      "Epoch 11/15\n",
      "10/10 [==============================] - 39s 4s/step - loss: 0.0956 - accuracy: 0.9672 - val_loss: 0.2449 - val_accuracy: 0.9600\n",
      "Epoch 12/15\n",
      "10/10 [==============================] - 42s 4s/step - loss: 0.1151 - accuracy: 0.9570 - val_loss: 0.2596 - val_accuracy: 0.9400\n",
      "Epoch 13/15\n",
      "10/10 [==============================] - 40s 4s/step - loss: 0.0828 - accuracy: 0.9694 - val_loss: 0.1195 - val_accuracy: 0.9500\n",
      "Epoch 14/15\n",
      "10/10 [==============================] - 40s 4s/step - loss: 0.0965 - accuracy: 0.9683 - val_loss: 0.1103 - val_accuracy: 0.9600\n",
      "Epoch 15/15\n",
      "10/10 [==============================] - 38s 4s/step - loss: 0.0892 - accuracy: 0.9661 - val_loss: 0.1910 - val_accuracy: 0.9300\n"
     ]
    },
    {
     "data": {
      "text/plain": [
       "<tensorflow.python.keras.callbacks.History at 0x179f3f9f9a0>"
      ]
     },
     "execution_count": 46,
     "metadata": {},
     "output_type": "execute_result"
    }
   ],
   "source": [
    "cg.fit_generator(x_train,steps_per_epoch=1014//100,epochs=15,validation_data=x_test,\n",
    "                 validation_steps=100//100)"
   ]
  },
  {
   "cell_type": "code",
   "execution_count": 47,
   "metadata": {},
   "outputs": [
    {
     "data": {
      "text/plain": [
       "{'Vitligo': 0, 'psoriasis': 1, 'seborrheic dermatitis': 2}"
      ]
     },
     "execution_count": 47,
     "metadata": {},
     "output_type": "execute_result"
    }
   ],
   "source": [
    "x_train.class_indices"
   ]
  },
  {
   "cell_type": "code",
   "execution_count": 48,
   "metadata": {},
   "outputs": [],
   "source": [
    "cg.save('MYproject_disease.h5')"
   ]
  },
  {
   "cell_type": "code",
   "execution_count": 49,
   "metadata": {},
   "outputs": [],
   "source": [
    "import numpy as np\n",
    "from tensorflow.keras.models import load_model\n",
    "from tensorflow.keras.preprocessing import image"
   ]
  },
  {
   "cell_type": "code",
   "execution_count": 50,
   "metadata": {},
   "outputs": [],
   "source": [
    "model=load_model('MYproject_disease.h5')"
   ]
  },
  {
   "cell_type": "code",
   "execution_count": 1172,
   "metadata": {},
   "outputs": [],
   "source": [
    "img=image.load_img(r'C:\\Users\\dell\\MY PROJECT\\Dataset\\testset\\Vitligo\\vi (1).png',\n",
    "              target_size=(128,128))"
   ]
  },
  {
   "cell_type": "code",
   "execution_count": 1173,
   "metadata": {},
   "outputs": [],
   "source": [
    "x=image.img_to_array(img)"
   ]
  },
  {
   "cell_type": "code",
   "execution_count": 1174,
   "metadata": {},
   "outputs": [
    {
     "data": {
      "text/plain": [
       "(128, 128, 3)"
      ]
     },
     "execution_count": 1174,
     "metadata": {},
     "output_type": "execute_result"
    }
   ],
   "source": [
    "x.shape"
   ]
  },
  {
   "cell_type": "code",
   "execution_count": 1175,
   "metadata": {},
   "outputs": [],
   "source": [
    "x=np.expand_dims(x,axis=0)"
   ]
  },
  {
   "cell_type": "code",
   "execution_count": 1176,
   "metadata": {},
   "outputs": [
    {
     "data": {
      "text/plain": [
       "(1, 128, 128, 3)"
      ]
     },
     "execution_count": 1176,
     "metadata": {},
     "output_type": "execute_result"
    }
   ],
   "source": [
    "x.shape"
   ]
  },
  {
   "cell_type": "code",
   "execution_count": 1177,
   "metadata": {},
   "outputs": [],
   "source": [
    "a=model.predict_classes(x)"
   ]
  },
  {
   "cell_type": "code",
   "execution_count": 1178,
   "metadata": {},
   "outputs": [
    {
     "data": {
      "text/plain": [
       "array([0], dtype=int64)"
      ]
     },
     "execution_count": 1178,
     "metadata": {},
     "output_type": "execute_result"
    }
   ],
   "source": [
    "a"
   ]
  },
  {
   "cell_type": "code",
   "execution_count": 1179,
   "metadata": {},
   "outputs": [],
   "source": [
    "index=['Vitligo', 'psoriasis', 'seborrheic dermatitis']"
   ]
  },
  {
   "cell_type": "code",
   "execution_count": 1180,
   "metadata": {},
   "outputs": [],
   "source": [
    "result=str(index[a[0]])"
   ]
  },
  {
   "cell_type": "code",
   "execution_count": 1181,
   "metadata": {},
   "outputs": [
    {
     "data": {
      "text/plain": [
       "'Vitligo'"
      ]
     },
     "execution_count": 1181,
     "metadata": {},
     "output_type": "execute_result"
    }
   ],
   "source": [
    "result"
   ]
  },
  {
   "cell_type": "code",
   "execution_count": null,
   "metadata": {},
   "outputs": [],
   "source": []
  },
  {
   "cell_type": "code",
   "execution_count": null,
   "metadata": {},
   "outputs": [],
   "source": []
  },
  {
   "cell_type": "code",
   "execution_count": null,
   "metadata": {},
   "outputs": [],
   "source": []
  }
 ],
 "metadata": {
  "kernelspec": {
   "display_name": "Python 3",
   "language": "python",
   "name": "python3"
  },
  "language_info": {
   "codemirror_mode": {
    "name": "ipython",
    "version": 3
   },
   "file_extension": ".py",
   "mimetype": "text/x-python",
   "name": "python",
   "nbconvert_exporter": "python",
   "pygments_lexer": "ipython3",
   "version": "3.8.5"
  }
 },
 "nbformat": 4,
 "nbformat_minor": 4
}
